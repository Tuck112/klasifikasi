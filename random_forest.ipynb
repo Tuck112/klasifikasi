{
  "nbformat": 4,
  "nbformat_minor": 0,
  "metadata": {
    "colab": {
      "provenance": []
    },
    "kernelspec": {
      "name": "python3",
      "display_name": "Python 3"
    },
    "language_info": {
      "name": "python"
    }
  },
  "cells": [
    {
      "cell_type": "code",
      "execution_count": 9,
      "metadata": {
        "id": "SIfN7Lm-GMoa"
      },
      "outputs": [],
      "source": [
        "import pandas as pd\n",
        "import matplotlib.pyplot as plt\n",
        "import seaborn as sns\n",
        "import numpy as np\n",
        "\n",
        "\n",
        "file_path = \"/content/drive/MyDrive/Dataset Skripsi/Hasil_Tes_Atlet_Porda.csv\"\n",
        "data = pd.read_csv(file_path, delimiter=\";\", encoding=\"utf-8\")\n",
        "\n"
      ]
    },
    {
      "cell_type": "code",
      "source": [
        "columns_to_convert = [\n",
        "    'Kelentukan', 'Kelincahan', 'Kecepatan', 'Hand Grip kanan',\n",
        "    'Hand Grip Kiri', 'Vo2 max', 'Berat Badan', 'Power Otot Tungkai'\n",
        "]\n",
        "\n",
        "# Konversi ke tipe numerik dengan pembersihan\n",
        "for col in columns_to_convert:\n",
        "   data[col] =data[col].astype(str).str.replace(',', '.', regex=True)  # Ganti koma ke titik\n",
        "   data[col] =data[col].str.replace(r'[^0-9.]', '', regex=True)  # Hapus karakter selain angka dan titik\n",
        "   data[col] = pd.to_numeric(data[col], errors='coerce')  # Konversi ke float, NaN jika gagal\n",
        "   data[col] =data[col].fillna(0).astype(int)  # Isi NaN dengan 0 sebelum ubah ke int\n",
        "\n",
        "data['Usia'] =data['Usia'].round().astype(int)\n",
        "print(data.dtypes)"
      ],
      "metadata": {
        "colab": {
          "base_uri": "https://localhost:8080/"
        },
        "id": "O4h0xuxPGTDV",
        "outputId": "d94c1879-b7c8-4972-b2c1-c3b4294dc757"
      },
      "execution_count": 10,
      "outputs": [
        {
          "output_type": "stream",
          "name": "stdout",
          "text": [
            "index                   int64\n",
            "Gender                 object\n",
            "Kelompok               object\n",
            "Berat Badan             int64\n",
            "Usia                    int64\n",
            "Vo2 max                 int64\n",
            "Power Otot Tungkai      int64\n",
            "Kecepatan Reaksi      float64\n",
            "Kelentukan              int64\n",
            "Kelincahan              int64\n",
            "Kecepatan               int64\n",
            "Hand Grip kanan         int64\n",
            "Hand Grip Kiri          int64\n",
            "Koordinasi            float64\n",
            "dtype: object\n"
          ]
        }
      ]
    },
    {
      "cell_type": "code",
      "source": [
        "print(data.dtypes)\n",
        "print(data[columns_to_convert].head())"
      ],
      "metadata": {
        "colab": {
          "base_uri": "https://localhost:8080/"
        },
        "id": "CrE2I5OaGVo2",
        "outputId": "d2cd83a9-21d9-4006-f3c5-2870c4de8f3b"
      },
      "execution_count": 11,
      "outputs": [
        {
          "output_type": "stream",
          "name": "stdout",
          "text": [
            "index                   int64\n",
            "Gender                 object\n",
            "Kelompok               object\n",
            "Berat Badan             int64\n",
            "Usia                    int64\n",
            "Vo2 max                 int64\n",
            "Power Otot Tungkai      int64\n",
            "Kecepatan Reaksi      float64\n",
            "Kelentukan              int64\n",
            "Kelincahan              int64\n",
            "Kecepatan               int64\n",
            "Hand Grip kanan         int64\n",
            "Hand Grip Kiri          int64\n",
            "Koordinasi            float64\n",
            "dtype: object\n",
            "   Kelentukan  Kelincahan  Kecepatan  Hand Grip kanan  Hand Grip Kiri  \\\n",
            "0          31          15          4               33              20   \n",
            "1          21          17          5               39              31   \n",
            "2          36          18          5               22              26   \n",
            "3          37          17          5               49              37   \n",
            "4          37          20          6               21              25   \n",
            "\n",
            "   Vo2 max  Berat Badan  Power Otot Tungkai  \n",
            "0       41           50                  50  \n",
            "1       41           53                  58  \n",
            "2       27           45                  40  \n",
            "3       43           64                  58  \n",
            "4       31           53                  57  \n"
          ]
        }
      ]
    },
    {
      "cell_type": "code",
      "source": [
        "from sklearn.preprocessing import LabelEncoder\n",
        "\n",
        "# Encoding 'Gender' dan 'Kelompok' kolom\n",
        "label_encoder_gender = LabelEncoder()\n",
        "label_encoder_kelompok = LabelEncoder()\n",
        "\n",
        "data['Gender_encoded'] = label_encoder_gender.fit_transform(data['Gender'])\n",
        "data['Kelompok_encoded'] = label_encoder_kelompok.fit_transform(data['Kelompok'])\n",
        "\n",
        "{\n",
        "    \"Encoded Gender Mapping\": dict(zip(label_encoder_gender.classes_, label_encoder_gender.transform(label_encoder_gender.classes_))),\n",
        "    \"Encoded Kelompok Mapping\": dict(zip(label_encoder_kelompok.classes_, label_encoder_kelompok.transform(label_encoder_kelompok.classes_))),\n",
        "}"
      ],
      "metadata": {
        "colab": {
          "base_uri": "https://localhost:8080/"
        },
        "id": "N53Ador5GX4E",
        "outputId": "b85710e3-f78d-4b7d-b874-5241b8d7a55c"
      },
      "execution_count": 12,
      "outputs": [
        {
          "output_type": "execute_result",
          "data": {
            "text/plain": [
              "{'Encoded Gender Mapping': {'Pria': 0, 'Wanita': 1},\n",
              " 'Encoded Kelompok Mapping': {'Dewasa': 0, 'Remaja': 1}}"
            ]
          },
          "metadata": {},
          "execution_count": 12
        }
      ]
    },
    {
      "cell_type": "code",
      "source": [
        "# Deteksi Outlier menggunakan z-score untuk numerical columns\n",
        "from scipy.stats import zscore\n",
        "\n",
        "# Select kolom numerik\n",
        "numerical_cols = [\n",
        "    'Power Otot Tungkai', 'Kecepatan Reaksi', 'Kelentukan',\n",
        "    'Kelincahan', 'Kecepatan', 'Hand Grip kanan', 'Hand Grip Kiri'\n",
        "]\n",
        "\n",
        "# Compute z-scores for numerical columns\n",
        "z_scores = np.abs(zscore(data[numerical_cols]))\n",
        "outliers = np.where(z_scores > 3)  # Z-score > 3 is often considered an outlier\n",
        "\n",
        "# Display outlier indices and corresponding column names\n",
        "outlier_indices = list(set(outliers[0]))  # Unique indices of outliers\n",
        "outlier_columns = [numerical_cols[i] for i in set(outliers[1])]\n",
        "\n",
        "# Show results\n",
        "outlier_results = {\n",
        "    \"Outlier Indices\": outlier_indices,\n",
        "    \"Outlier Columns\": outlier_columns\n",
        "}\n",
        "\n",
        "for key, value in outlier_results.items():\n",
        "    print(f\"{key}:\")\n",
        "    for item in value:\n",
        "        print(f\"- {item}\")\n",
        "    print(\"\\n\" + \"-\"*30 + \"\\n\")"
      ],
      "metadata": {
        "colab": {
          "base_uri": "https://localhost:8080/"
        },
        "id": "14Iq7kgZGaG8",
        "outputId": "ffc50653-c5d9-4b36-ffef-fbc85e28e511"
      },
      "execution_count": 13,
      "outputs": [
        {
          "output_type": "stream",
          "name": "stdout",
          "text": [
            "Outlier Indices:\n",
            "- 256\n",
            "- 226\n",
            "- 196\n",
            "\n",
            "------------------------------\n",
            "\n",
            "Outlier Columns:\n",
            "- Kecepatan Reaksi\n",
            "\n",
            "------------------------------\n",
            "\n"
          ]
        }
      ]
    },
    {
      "cell_type": "code",
      "source": [
        "from sklearn.preprocessing import MinMaxScaler\n",
        "#===Power===\n",
        "#Leg Power\n",
        "data['Leg Power'] = (2.21 *data['Berat Badan'] * (data['Power Otot Tungkai'] / 100))\n",
        "\n",
        "#Hand Power\n",
        "data['Hand Power'] =data['Hand Grip kanan'] /data['Hand Grip Kiri']\n",
        "\n",
        "\n",
        "#===Speed===\n",
        "data['Speed'] = 20 /data['Kecepatan']"
      ],
      "metadata": {
        "id": "XS96ZDpwGa1N"
      },
      "execution_count": 14,
      "outputs": []
    },
    {
      "cell_type": "code",
      "source": [
        "#Penentuan norma untuk klasifikasi atlit\n",
        "\n",
        "from sklearn.model_selection import train_test_split, StratifiedKFold, cross_val_score\n",
        "from sklearn.preprocessing import LabelEncoder, StandardScaler\n",
        "from sklearn.ensemble import RandomForestClassifier\n",
        "from sklearn.metrics import accuracy_score, classification_report, confusion_matrix\n",
        "from sklearn.model_selection import KFold\n",
        "from sklearn.metrics import accuracy_score, precision_score, recall_score, f1_score\n",
        "from sklearn.model_selection import GridSearchCV, StratifiedKFold\n",
        "\n",
        "\n",
        "# Endurance\n",
        "def classify_vo2max(row):\n",
        "    if row['Gender'] == 'Pria':\n",
        "        if row['Vo2 max'] <= 24:\n",
        "            return 'Beginner'\n",
        "        elif 25 <= row['Vo2 max'] <= 36:\n",
        "            return 'Intermediate'\n",
        "        elif 37 <= row['Vo2 max'] < 50:\n",
        "            return 'Advanced'\n",
        "    elif row['Gender'] == 'Wanita':\n",
        "        if row['Vo2 max'] <= 22:\n",
        "            return 'Beginner'\n",
        "        elif 23 <= row['Vo2 max'] <= 33:\n",
        "            return 'Intermediate'\n",
        "        elif 34 <= row['Vo2 max'] < 46:\n",
        "            return 'Advanced'\n",
        "    return 'Uncategorized'\n",
        "\n",
        "data['Endurance Category'] =data.apply(classify_vo2max, axis=1)\n",
        "\n",
        "# Speed\n",
        "def classify_speed(row):\n",
        "    if row['Gender'] == 'Pria':\n",
        "        if row['Speed'] >= 3.70:\n",
        "            return 'Beginner'\n",
        "        elif 3.31 <= row['Speed'] < 3.50:\n",
        "            return 'Intermediate'\n",
        "        elif row['Speed'] < 3.11:\n",
        "            return 'Advanced'\n",
        "    elif row['Gender'] == 'Wanita':\n",
        "        if row['Speed'] >= 3.90:\n",
        "            return 'Beginner'\n",
        "        elif 3.51 <= row['Speed'] < 3.70:\n",
        "            return 'Intermediate'\n",
        "        elif row['Speed'] < 3.50:\n",
        "            return 'Advanced'\n",
        "    return 'Uncategorized'\n",
        "\n",
        "data['Speed Category'] =data.apply(classify_speed, axis=1)\n",
        "\n",
        "# Leg Power Classification (Estimasi Wanita)\n",
        "def classify_leg_power(row):\n",
        "    leg_power = row['Leg Power']\n",
        "\n",
        "    if row['Gender'] == 'Pria':\n",
        "        if leg_power >= 79:\n",
        "            return 'Advanced'\n",
        "        elif 65 <= leg_power < 79:\n",
        "            return 'Intermediate'\n",
        "        else:\n",
        "            return 'Beginner'\n",
        "\n",
        "    elif row['Gender'] == 'Wanita':\n",
        "        if leg_power >= 59:\n",
        "            return 'Advanced'\n",
        "        elif 49 <= leg_power < 59:\n",
        "            return 'Intermediate'\n",
        "        else:\n",
        "            return 'Beginner'\n",
        "\n",
        "data['Leg Power Category'] = data.apply(classify_leg_power, axis=1)\n",
        "\n",
        "# Hand Power\n",
        "def classify_handpower(row):\n",
        "    if row['Gender'] == 'Pria':\n",
        "        if row['Hand Power'] >= 1.30 or row['Hand Power'] < 0.85:\n",
        "            return 'Beginner'\n",
        "        elif 0.85 <= row['Hand Power'] < 1.15:\n",
        "            return 'Intermediate'\n",
        "        elif 1.15 <= row['Hand Power'] < 1.30:\n",
        "            return 'Advanced'\n",
        "    elif row['Gender'] == 'Wanita':\n",
        "        if row['Hand Power'] >= 1.25 or row['Hand Power'] < 0.80:\n",
        "            return 'Beginner'\n",
        "        elif 0.80 <= row['Hand Power'] < 1.10:\n",
        "            return 'Intermediate'\n",
        "        elif 1.10 <= row['Hand Power'] < 1.25:\n",
        "            return 'Advanced'\n",
        "    return 'Uncategorized'\n",
        "\n",
        "data['Hand Power Category'] =data.apply(classify_handpower, axis=1)\n",
        "\n",
        "\n"
      ],
      "metadata": {
        "id": "YDNrh684GeJV"
      },
      "execution_count": 15,
      "outputs": []
    },
    {
      "cell_type": "code",
      "source": [
        "# Kombinasi kategori untuk target klasifikasi\n",
        "data['Overall Category'] =data[['Endurance Category', 'Speed Category','Leg Power Category','Hand Power Category']].mode(axis=1)[0]\n",
        "\n",
        "# Encoding kategori menjadi numerik\n",
        "label_encoder = LabelEncoder()\n",
        "data['Overall Category Encoded'] = label_encoder.fit_transform(data['Overall Category'])"
      ],
      "metadata": {
        "id": "p5ebv41dIYwv"
      },
      "execution_count": 16,
      "outputs": []
    },
    {
      "cell_type": "code",
      "source": [],
      "metadata": {
        "id": "JNSxHXoKKoAe"
      },
      "execution_count": null,
      "outputs": []
    },
    {
      "cell_type": "code",
      "source": [
        "# Feature Selection\n",
        "features =data[['Leg Power', 'Hand Power','Speed','Vo2 max']]\n",
        "target =data['Overall Category Encoded']\n",
        "\n",
        "# Normalisasi fitur\n",
        "scaler = StandardScaler()\n",
        "features_scaled = scaler.fit_transform(features)"
      ],
      "metadata": {
        "id": "eO9QGnQOGhvc"
      },
      "execution_count": 17,
      "outputs": []
    },
    {
      "cell_type": "code",
      "source": [
        "# Menentukan jumlah fold (k) secara otomatis menggunakan sqrt(N)\n",
        "N = len(features_scaled)\n",
        "k = min(10, max(2, int(np.sqrt(N))))\n",
        "kf = KFold(n_splits=k, shuffle=True, random_state=42)"
      ],
      "metadata": {
        "id": "k9v0_nDpGkW-"
      },
      "execution_count": 18,
      "outputs": []
    },
    {
      "cell_type": "code",
      "source": [
        "# Simpan Hasil Evaluasi untuk Setiap Fold\n",
        "fold_evaluations = []\n",
        "\n",
        "for train_index, test_index in kf.split(features_scaled):\n",
        "    X_train_fold, X_test_fold = features_scaled[train_index], features_scaled[test_index]\n",
        "    y_train_fold, y_test_fold = target.iloc[train_index], target.iloc[test_index]\n",
        "\n",
        "    # Latih Model pada Fold Ini\n",
        "    rf_model_fold = RandomForestClassifier(\n",
        "        n_estimators=30,\n",
        "        max_depth=3,\n",
        "        min_samples_split=30,\n",
        "        min_samples_leaf=15,\n",
        "        max_features=\"sqrt\",\n",
        "        bootstrap=True,\n",
        "        class_weight='balanced',\n",
        "        random_state=42\n",
        "    )\n",
        "\n",
        "    rf_model_fold.fit(X_train_fold, y_train_fold)\n",
        "    y_pred_fold = rf_model_fold.predict(X_test_fold)\n",
        "\n",
        "    # Evaluasi Model pada Fold Ini\n",
        "    fold_accuracy = accuracy_score(y_test_fold, y_pred_fold)\n",
        "    fold_precision = precision_score(y_test_fold, y_pred_fold, average='weighted', zero_division=1)\n",
        "    fold_recall = recall_score(y_test_fold, y_pred_fold, average='weighted', zero_division=1)\n",
        "    fold_f1 = f1_score(y_test_fold, y_pred_fold, average='weighted')\n",
        "\n",
        "    fold_evaluations.append({\n",
        "        \"Accuracy\": fold_accuracy,\n",
        "        \"Precision\": fold_precision,\n",
        "        \"Recall\": fold_recall,\n",
        "        \"F1-Score\": fold_f1\n",
        "    })"
      ],
      "metadata": {
        "id": "Cmc9vH8pGmpX"
      },
      "execution_count": 19,
      "outputs": []
    },
    {
      "cell_type": "code",
      "source": [
        "# Hitung Rata-rata Evaluasi dari Semua Fold\n",
        "average_evaluation = {\n",
        "    \"Mean Accuracy\": np.mean([eval[\"Accuracy\"] for eval in fold_evaluations]),\n",
        "    \"Mean Precision\": np.mean([eval[\"Precision\"] for eval in fold_evaluations]),\n",
        "    \"Mean Recall\": np.mean([eval[\"Recall\"] for eval in fold_evaluations]),\n",
        "    \"Mean F1-Score\": np.mean([eval[\"F1-Score\"] for eval in fold_evaluations])\n",
        "}"
      ],
      "metadata": {
        "id": "u-WCBV1jGpH9"
      },
      "execution_count": 20,
      "outputs": []
    },
    {
      "cell_type": "code",
      "source": [
        "# Tampilkan Hasil Evaluasi dengan Basic K-Fold\n",
        "print(\"\\n**K-Fold Evaluations per Fold:**\\n\")\n",
        "for i, eval_metrics in enumerate(fold_evaluations):\n",
        "    print(f\"🔹 Fold {i+1}:\")\n",
        "    print(f\"   - Accuracy:  {eval_metrics['Accuracy']:.4f}\")\n",
        "    print(f\"   - Precision: {eval_metrics['Precision']:.4f}\")\n",
        "    print(f\"   - Recall:    {eval_metrics['Recall']:.4f}\")\n",
        "    print(f\"   - F1-Score:  {eval_metrics['F1-Score']:.4f}\")\n",
        "    print(\"-\" * 40)\n",
        "\n",
        "print(\"\\n**Mean Evaluation Metrics (Averaged Across Folds):**\\n\")\n",
        "print(f\"✅ Mean Accuracy:  {average_evaluation['Mean Accuracy']:.4f}\")\n",
        "print(f\"✅ Mean Precision: {average_evaluation['Mean Precision']:.4f}\")\n",
        "print(f\"✅ Mean Recall:    {average_evaluation['Mean Recall']:.4f}\")\n",
        "print(f\"✅ Mean F1-Score:  {average_evaluation['Mean F1-Score']:.4f}\")"
      ],
      "metadata": {
        "colab": {
          "base_uri": "https://localhost:8080/"
        },
        "id": "LTfHJsDOGroc",
        "outputId": "a9bca711-dd34-4cd7-b2b4-5358a39e26c9"
      },
      "execution_count": 21,
      "outputs": [
        {
          "output_type": "stream",
          "name": "stdout",
          "text": [
            "\n",
            "**K-Fold Evaluations per Fold:**\n",
            "\n",
            "🔹 Fold 1:\n",
            "   - Accuracy:  0.7333\n",
            "   - Precision: 0.7465\n",
            "   - Recall:    0.7333\n",
            "   - F1-Score:  0.7219\n",
            "----------------------------------------\n",
            "🔹 Fold 2:\n",
            "   - Accuracy:  0.6333\n",
            "   - Precision: 0.6536\n",
            "   - Recall:    0.6333\n",
            "   - F1-Score:  0.6287\n",
            "----------------------------------------\n",
            "🔹 Fold 3:\n",
            "   - Accuracy:  0.9000\n",
            "   - Precision: 0.9074\n",
            "   - Recall:    0.9000\n",
            "   - F1-Score:  0.9023\n",
            "----------------------------------------\n",
            "🔹 Fold 4:\n",
            "   - Accuracy:  0.8000\n",
            "   - Precision: 0.8480\n",
            "   - Recall:    0.8000\n",
            "   - F1-Score:  0.8129\n",
            "----------------------------------------\n",
            "🔹 Fold 5:\n",
            "   - Accuracy:  0.8333\n",
            "   - Precision: 0.8396\n",
            "   - Recall:    0.8333\n",
            "   - F1-Score:  0.8342\n",
            "----------------------------------------\n",
            "🔹 Fold 6:\n",
            "   - Accuracy:  0.8333\n",
            "   - Precision: 0.8479\n",
            "   - Recall:    0.8333\n",
            "   - F1-Score:  0.8311\n",
            "----------------------------------------\n",
            "🔹 Fold 7:\n",
            "   - Accuracy:  0.9000\n",
            "   - Precision: 0.9083\n",
            "   - Recall:    0.9000\n",
            "   - F1-Score:  0.8967\n",
            "----------------------------------------\n",
            "🔹 Fold 8:\n",
            "   - Accuracy:  0.9000\n",
            "   - Precision: 0.9214\n",
            "   - Recall:    0.9000\n",
            "   - F1-Score:  0.8981\n",
            "----------------------------------------\n",
            "🔹 Fold 9:\n",
            "   - Accuracy:  0.9000\n",
            "   - Precision: 0.9231\n",
            "   - Recall:    0.9000\n",
            "   - F1-Score:  0.9023\n",
            "----------------------------------------\n",
            "🔹 Fold 10:\n",
            "   - Accuracy:  0.9000\n",
            "   - Precision: 0.9170\n",
            "   - Recall:    0.9000\n",
            "   - F1-Score:  0.8987\n",
            "----------------------------------------\n",
            "\n",
            "**Mean Evaluation Metrics (Averaged Across Folds):**\n",
            "\n",
            "✅ Mean Accuracy:  0.8333\n",
            "✅ Mean Precision: 0.8513\n",
            "✅ Mean Recall:    0.8333\n",
            "✅ Mean F1-Score:  0.8327\n"
          ]
        }
      ]
    },
    {
      "cell_type": "code",
      "source": [
        "import pickle\n",
        "\n",
        "# Simpan model setelah pelatihan\n",
        "with open(\"random_forest_model.pkl\", \"wb\") as file:\n",
        "    pickle.dump(data, file)\n",
        "\n",
        "print(\"Model berhasil disimpan sebagai 'random_forest_model.pkl'\")"
      ],
      "metadata": {
        "colab": {
          "base_uri": "https://localhost:8080/"
        },
        "id": "S562FyQHKqbD",
        "outputId": "0cfa8d2a-d4e5-4bd1-bced-d39c77e26e6e"
      },
      "execution_count": 23,
      "outputs": [
        {
          "output_type": "stream",
          "name": "stdout",
          "text": [
            "Model berhasil disimpan sebagai 'random_forest_model.pkl'\n"
          ]
        }
      ]
    }
  ]
}